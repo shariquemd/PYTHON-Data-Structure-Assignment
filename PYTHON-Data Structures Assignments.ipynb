{
 "cells": [
  {
   "cell_type": "markdown",
   "id": "27d9d9b4",
   "metadata": {},
   "source": [
    "Answer1"
   ]
  },
  {
   "cell_type": "code",
   "execution_count": null,
   "id": "51206211",
   "metadata": {},
   "outputs": [],
   "source": [
    " Python supports two main types of comments:\n",
    "(i)Single-line comments\n",
    "Example:\n",
    "  # This is a single-line comment\n",
    "x = 5  # You can also add comments at the end of a line of code\n",
    "(ii)Multiple-line comments:These strings are enclosed in triple quotes and can span multiple lines.\n",
    "Example:\n",
    "   \"\"\"\n",
    "   This is another example of a multi-line comment (docstring).\n",
    "    It provides documentation for the function.\n",
    "    \"\"\"  "
   ]
  },
  {
   "cell_type": "markdown",
   "id": "5d1dae5b",
   "metadata": {},
   "source": [
    "Answer2"
   ]
  },
  {
   "cell_type": "code",
   "execution_count": 3,
   "id": "3e943cf5",
   "metadata": {},
   "outputs": [],
   "source": [
    "Variables are used to store data or values that can be referenced and manipulated.Variables act as symbolic names or labels for data stored in memory.\n",
    "\n",
    "Variable Declaration and Assignment:\n",
    "\n",
    "Variable Names:\n",
    ".Variable names must start with a letter (a-z, A-Z) or an underscore (_) character.\n",
    ".They can be followed by letters, digits (0-9), or underscores.\n",
    ".Variable names are case-sensitive (e.g., myVar and myvar are different variables).\n",
    "\n",
    "Assignment Operator (=):\n",
    "The = operator is used to assign a value to a variable.\n",
    "\n",
    "Variable Types:\n",
    "In Python, variables are dynamically typed we don't need to specify their data type explicitly. Python infers the data type based on the assigned value. \n",
    "For example, if we assign an integer to a variable, it becomes an integer variable; if you assign a string, it becomes a string variable.\n",
    "\n"
   ]
  },
  {
   "cell_type": "markdown",
   "id": "83712510",
   "metadata": {},
   "source": [
    "Answer3"
   ]
  },
  {
   "cell_type": "code",
   "execution_count": null,
   "id": "1fc78887",
   "metadata": {},
   "outputs": [],
   "source": [
    "# Converting int into float\n",
    "x=5\n",
    "y=float(x)\n",
    "\n",
    "# converting int into str\n",
    "x=7\n",
    "y=str(x)\n",
    "\n",
    "#converting float to int\n",
    "x=56.67\n",
    "y=int(x)\n",
    "\n",
    "#converting float into str\n",
    "x=34.56\n",
    "y=str(x)\n",
    "\n",
    "#converting list into tuple  \n",
    "my_list = [1, 2, 3]\n",
    "my_tuple = tuple(my_list)\n",
    "\n",
    "#converting tuple into list  \n",
    "my_tuple = (4, 5, 6)\n",
    "my_list = list(my_tuple)  \n"
   ]
  },
  {
   "cell_type": "markdown",
   "id": "a86f3d04",
   "metadata": {},
   "source": [
    "Answer4"
   ]
  },
  {
   "cell_type": "code",
   "execution_count": null,
   "id": "2dbf3074",
   "metadata": {},
   "outputs": [],
   "source": [
    "(i)Open a text editor or an integrated development environment (IDE) of your choice.\n",
    "(ii)Write your Python code in the text editor and save it with a .py file extension. For example, you can create a file named myscript.py and add your Python code to it.\n",
    "(iii)Open a command prompt or terminal window on your computer. The method for doing this varies depending on your operating system:\n",
    "Windows: Press Win + R, type cmd, and press Enter.\n",
    "(iv)Use the cd (change directory) command to navigate to the directory where your Python script is located.Replace /path/to/script/directory with the actual path to the directory containing your script.\n",
    "(v)Replace myscript.py with the name of your Python script. After running this command, Python will execute the script, and any output or results will be displayed in the command prompt."
   ]
  },
  {
   "cell_type": "markdown",
   "id": "64ae0bbd",
   "metadata": {},
   "source": [
    "Answer5"
   ]
  },
  {
   "cell_type": "code",
   "execution_count": 7,
   "id": "f87a5d32",
   "metadata": {},
   "outputs": [
    {
     "data": {
      "text/plain": [
       "[2, 3]"
      ]
     },
     "execution_count": 7,
     "metadata": {},
     "output_type": "execute_result"
    }
   ],
   "source": [
    "my_list=[1,2,3,4,5]\n",
    "ans_list=my_list[1:3]\n",
    "ans_list"
   ]
  },
  {
   "cell_type": "markdown",
   "id": "084b9c20",
   "metadata": {},
   "source": [
    "Answer6"
   ]
  },
  {
   "cell_type": "code",
   "execution_count": null,
   "id": "89bdd5ca",
   "metadata": {},
   "outputs": [],
   "source": [
    "In Python, complex numbers are represented using the complex data type. The imaginary unit i is represented as j in Python.\n",
    "\n",
    "# Creating complex numbers\n",
    "z1 = 3 + 4j    # 3 + 4i\n",
    "z2 = 1 - 2j    # 1 - 2i\n",
    "\n",
    "# Arithmetic operations with complex numbers\n",
    "addition_result = z1 + z2  \n",
    "subtraction_result = z1 - z2  \n",
    "multiplication_result = z1 * z2  \n",
    "division_result = z1 / z2  \n",
    "\n",
    "# Getting the real and imaginary parts\n",
    "real_part = z1.real  \n",
    "imaginary_part = z1.imag  \n",
    "\n",
    "# Conjugate of a complex number\n",
    "conjugate_z1 = z1.conjugate()  \n",
    "\n",
    "# Magnitude (absolute value) of a complex number\n",
    "magnitude_z1 = abs(z1)  "
   ]
  },
  {
   "cell_type": "markdown",
   "id": "854243cb",
   "metadata": {},
   "source": [
    "Answer7"
   ]
  },
  {
   "cell_type": "code",
   "execution_count": 8,
   "id": "4e320aff",
   "metadata": {},
   "outputs": [],
   "source": [
    "age=25"
   ]
  },
  {
   "cell_type": "markdown",
   "id": "a515db68",
   "metadata": {},
   "source": [
    "Answer8"
   ]
  },
  {
   "cell_type": "code",
   "execution_count": 11,
   "id": "ba85ff70",
   "metadata": {},
   "outputs": [],
   "source": [
    "price=9.99\n",
    "# Float type variable"
   ]
  },
  {
   "cell_type": "markdown",
   "id": "32849a9c",
   "metadata": {},
   "source": [
    "Answer9"
   ]
  },
  {
   "cell_type": "code",
   "execution_count": 12,
   "id": "44a9a4e6",
   "metadata": {},
   "outputs": [
    {
     "name": "stdout",
     "output_type": "stream",
     "text": [
      "MD SHARIQUE\n"
     ]
    }
   ],
   "source": [
    "name=\"MD SHARIQUE\"\n",
    "print(name)"
   ]
  },
  {
   "cell_type": "markdown",
   "id": "c136147e",
   "metadata": {},
   "source": [
    "Answer10"
   ]
  },
  {
   "cell_type": "code",
   "execution_count": 19,
   "id": "eabe5de6",
   "metadata": {},
   "outputs": [
    {
     "name": "stdout",
     "output_type": "stream",
     "text": [
      "World\n"
     ]
    }
   ],
   "source": [
    "s=\"Hello,World!\"\n",
    "print(s[6:11])"
   ]
  },
  {
   "cell_type": "markdown",
   "id": "0e2b4747",
   "metadata": {},
   "source": [
    "Answer11"
   ]
  },
  {
   "cell_type": "code",
   "execution_count": null,
   "id": "62f5dd7c",
   "metadata": {},
   "outputs": [],
   "source": [
    "is_student = True  # If you are currently a student\n",
    "# or\n",
    "is_student = False  # If you are not currently a student\n"
   ]
  }
 ],
 "metadata": {
  "kernelspec": {
   "display_name": "Python 3 (ipykernel)",
   "language": "python",
   "name": "python3"
  },
  "language_info": {
   "codemirror_mode": {
    "name": "ipython",
    "version": 3
   },
   "file_extension": ".py",
   "mimetype": "text/x-python",
   "name": "python",
   "nbconvert_exporter": "python",
   "pygments_lexer": "ipython3",
   "version": "3.11.4"
  }
 },
 "nbformat": 4,
 "nbformat_minor": 5
}
